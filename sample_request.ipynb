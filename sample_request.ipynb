{
 "cells": [
  {
   "cell_type": "code",
   "execution_count": 9,
   "metadata": {},
   "outputs": [],
   "source": [
    "import requests,json"
   ]
  },
  {
   "cell_type": "code",
   "execution_count": 22,
   "metadata": {},
   "outputs": [
    {
     "name": "stdout",
     "output_type": "stream",
     "text": [
      "{'broadcast_id': 17929769357225715, 'stream_key': '17929769357225715?s_sw=0&s_vt=ig&a=AbzW-N9rMGWKiGRJ', 'stream_server': 'rtmps://live-upload.instagram.com:443/rtmp/'}\n"
     ]
    }
   ],
   "source": [
    "url = 'http://localhost:8000/getDataFile'\n",
    "data = {\"username\": \"_fronji\", \"password\":\"81216163Xx_\"}\n",
    "headers = {'Content-type': 'application/json', 'Accept': 'text/plain'}\n",
    "\n",
    "res = requests.post(url,data=json.dumps(data),headers=headers).json()\n",
    " \n",
    "print(res)"
   ]
  },
  {
   "cell_type": "code",
   "execution_count": null,
   "metadata": {},
   "outputs": [],
   "source": []
  }
 ],
 "metadata": {
  "interpreter": {
   "hash": "e4abcd27c1b37494262f17a81aca66206f02c4180b9397e92552f3d8b0960bb9"
  },
  "kernelspec": {
   "display_name": "Python 3.8.0 64-bit",
   "language": "python",
   "name": "python3"
  },
  "language_info": {
   "codemirror_mode": {
    "name": "ipython",
    "version": 3
   },
   "file_extension": ".py",
   "mimetype": "text/x-python",
   "name": "python",
   "nbconvert_exporter": "python",
   "pygments_lexer": "ipython3",
   "version": "3.8.0"
  },
  "orig_nbformat": 4
 },
 "nbformat": 4,
 "nbformat_minor": 2
}
